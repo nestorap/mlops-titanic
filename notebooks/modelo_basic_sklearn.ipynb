{
 "cells": [
  {
   "cell_type": "markdown",
   "id": "4adb6def-22b6-4f3d-ac55-209131d07d10",
   "metadata": {},
   "source": [
    "# Intro\n",
    "La idea es entrenar un modelo de ml para luego registrarlo con MLFlow, por lo que en el notebook se realizará el proceso que después lo implantaremos mediante scripts"
   ]
  },
  {
   "cell_type": "code",
   "execution_count": 1,
   "id": "f39d6ebf-2675-4f88-8274-34eb2ee15ca0",
   "metadata": {
    "tags": []
   },
   "outputs": [],
   "source": [
    "# Librerías\n",
    "\n",
    "import pandas as pd\n",
    "import numpy as np\n",
    "\n",
    "import seaborn as sns\n",
    "import matplotlib.pyplot as plt"
   ]
  },
  {
   "cell_type": "code",
   "execution_count": 4,
   "id": "327aaefc-0ded-4ce0-8bcf-f7aef75b2a07",
   "metadata": {
    "tags": []
   },
   "outputs": [],
   "source": [
    "# Leemos los datos\n",
    "df = pd.read_csv('../data/raw/titanic.csv')"
   ]
  },
  {
   "cell_type": "code",
   "execution_count": 5,
   "id": "e25596a8-f6da-4aff-a0aa-36d90d185bea",
   "metadata": {
    "tags": []
   },
   "outputs": [
    {
     "data": {
      "text/html": [
       "<div>\n",
       "<style scoped>\n",
       "    .dataframe tbody tr th:only-of-type {\n",
       "        vertical-align: middle;\n",
       "    }\n",
       "\n",
       "    .dataframe tbody tr th {\n",
       "        vertical-align: top;\n",
       "    }\n",
       "\n",
       "    .dataframe thead th {\n",
       "        text-align: right;\n",
       "    }\n",
       "</style>\n",
       "<table border=\"1\" class=\"dataframe\">\n",
       "  <thead>\n",
       "    <tr style=\"text-align: right;\">\n",
       "      <th></th>\n",
       "      <th>survived</th>\n",
       "      <th>pclass</th>\n",
       "      <th>sex</th>\n",
       "      <th>age</th>\n",
       "      <th>sibsp</th>\n",
       "      <th>parch</th>\n",
       "      <th>fare</th>\n",
       "      <th>embarked</th>\n",
       "      <th>class</th>\n",
       "      <th>who</th>\n",
       "      <th>adult_male</th>\n",
       "      <th>deck</th>\n",
       "      <th>embark_town</th>\n",
       "      <th>alive</th>\n",
       "      <th>alone</th>\n",
       "    </tr>\n",
       "  </thead>\n",
       "  <tbody>\n",
       "    <tr>\n",
       "      <th>0</th>\n",
       "      <td>0</td>\n",
       "      <td>3</td>\n",
       "      <td>male</td>\n",
       "      <td>22.0</td>\n",
       "      <td>1</td>\n",
       "      <td>0</td>\n",
       "      <td>7.2500</td>\n",
       "      <td>S</td>\n",
       "      <td>Third</td>\n",
       "      <td>man</td>\n",
       "      <td>True</td>\n",
       "      <td>NaN</td>\n",
       "      <td>Southampton</td>\n",
       "      <td>no</td>\n",
       "      <td>False</td>\n",
       "    </tr>\n",
       "    <tr>\n",
       "      <th>1</th>\n",
       "      <td>1</td>\n",
       "      <td>1</td>\n",
       "      <td>female</td>\n",
       "      <td>38.0</td>\n",
       "      <td>1</td>\n",
       "      <td>0</td>\n",
       "      <td>71.2833</td>\n",
       "      <td>C</td>\n",
       "      <td>First</td>\n",
       "      <td>woman</td>\n",
       "      <td>False</td>\n",
       "      <td>C</td>\n",
       "      <td>Cherbourg</td>\n",
       "      <td>yes</td>\n",
       "      <td>False</td>\n",
       "    </tr>\n",
       "    <tr>\n",
       "      <th>2</th>\n",
       "      <td>1</td>\n",
       "      <td>3</td>\n",
       "      <td>female</td>\n",
       "      <td>26.0</td>\n",
       "      <td>0</td>\n",
       "      <td>0</td>\n",
       "      <td>7.9250</td>\n",
       "      <td>S</td>\n",
       "      <td>Third</td>\n",
       "      <td>woman</td>\n",
       "      <td>False</td>\n",
       "      <td>NaN</td>\n",
       "      <td>Southampton</td>\n",
       "      <td>yes</td>\n",
       "      <td>True</td>\n",
       "    </tr>\n",
       "    <tr>\n",
       "      <th>3</th>\n",
       "      <td>1</td>\n",
       "      <td>1</td>\n",
       "      <td>female</td>\n",
       "      <td>35.0</td>\n",
       "      <td>1</td>\n",
       "      <td>0</td>\n",
       "      <td>53.1000</td>\n",
       "      <td>S</td>\n",
       "      <td>First</td>\n",
       "      <td>woman</td>\n",
       "      <td>False</td>\n",
       "      <td>C</td>\n",
       "      <td>Southampton</td>\n",
       "      <td>yes</td>\n",
       "      <td>False</td>\n",
       "    </tr>\n",
       "    <tr>\n",
       "      <th>4</th>\n",
       "      <td>0</td>\n",
       "      <td>3</td>\n",
       "      <td>male</td>\n",
       "      <td>35.0</td>\n",
       "      <td>0</td>\n",
       "      <td>0</td>\n",
       "      <td>8.0500</td>\n",
       "      <td>S</td>\n",
       "      <td>Third</td>\n",
       "      <td>man</td>\n",
       "      <td>True</td>\n",
       "      <td>NaN</td>\n",
       "      <td>Southampton</td>\n",
       "      <td>no</td>\n",
       "      <td>True</td>\n",
       "    </tr>\n",
       "  </tbody>\n",
       "</table>\n",
       "</div>"
      ],
      "text/plain": [
       "   survived  pclass     sex   age  sibsp  parch     fare embarked  class  \\\n",
       "0         0       3    male  22.0      1      0   7.2500        S  Third   \n",
       "1         1       1  female  38.0      1      0  71.2833        C  First   \n",
       "2         1       3  female  26.0      0      0   7.9250        S  Third   \n",
       "3         1       1  female  35.0      1      0  53.1000        S  First   \n",
       "4         0       3    male  35.0      0      0   8.0500        S  Third   \n",
       "\n",
       "     who  adult_male deck  embark_town alive  alone  \n",
       "0    man        True  NaN  Southampton    no  False  \n",
       "1  woman       False    C    Cherbourg   yes  False  \n",
       "2  woman       False  NaN  Southampton   yes   True  \n",
       "3  woman       False    C  Southampton   yes  False  \n",
       "4    man        True  NaN  Southampton    no   True  "
      ]
     },
     "execution_count": 5,
     "metadata": {},
     "output_type": "execute_result"
    }
   ],
   "source": [
    "df.head()"
   ]
  },
  {
   "cell_type": "markdown",
   "id": "f9bee4fe-a059-409e-9b1d-fba8dc681351",
   "metadata": {},
   "source": [
    "# Feature selection\n",
    "Ya hemos visto qué variables influyen más, así que procederemos a seleccionar variables que nos interese"
   ]
  },
  {
   "cell_type": "code",
   "execution_count": 6,
   "id": "0b6d5e32-32d0-4525-b20f-9c209222f04e",
   "metadata": {
    "tags": []
   },
   "outputs": [],
   "source": [
    "columns_X = [\"pclass\", \"sex\", \"age\", \"sibsp\", \"parch\", \"fare\", \"embarked\", \"class\", \"who\", \"embark_town\", \"alone\"]\n",
    "columns_y = [\"survived\"]\n",
    "\n",
    "df_X = df.loc[:, columns_X]\n",
    "df_y = df.loc[:, columns_y]"
   ]
  },
  {
   "cell_type": "markdown",
   "id": "5868aa85-bc8c-42e1-87ea-9dcd3e5f6da5",
   "metadata": {},
   "source": [
    "# Tratamos las variables métricas"
   ]
  },
  {
   "cell_type": "code",
   "execution_count": 16,
   "id": "8835cb93-3a28-4179-a6d0-82880ea51266",
   "metadata": {
    "tags": []
   },
   "outputs": [],
   "source": [
    "# Seleccionamos las variables métricas\n",
    "numeric = df_X.loc[:,[\"age\", \"fare\"]]"
   ]
  },
  {
   "cell_type": "code",
   "execution_count": 17,
   "id": "dfcfb964-6278-44ac-95b5-17d05eb767ab",
   "metadata": {
    "tags": []
   },
   "outputs": [
    {
     "data": {
      "text/plain": [
       "age     177\n",
       "fare      0\n",
       "dtype: int64"
      ]
     },
     "execution_count": 17,
     "metadata": {},
     "output_type": "execute_result"
    }
   ],
   "source": [
    "# Vemos los nans de las numéricas\n",
    "numeric.isnull().sum()"
   ]
  },
  {
   "cell_type": "code",
   "execution_count": 18,
   "id": "cfaba370-3959-493d-a378-d5e33ac5ce73",
   "metadata": {
    "tags": []
   },
   "outputs": [],
   "source": [
    "# Imputamos los valores de la edad\n",
    "from sklearn.impute import SimpleImputer\n",
    "\n",
    "imputer = SimpleImputer(missing_values=np.nan, strategy='mean')\n",
    "matrix_numeric = imputer.fit_transform(numeric)\n",
    "\n",
    "numeric_not_null = pd.DataFrame(matrix_numeric, columns = numeric.columns)"
   ]
  },
  {
   "cell_type": "code",
   "execution_count": 19,
   "id": "3dd86e7d-17bf-4648-87ac-21d8f8f9917b",
   "metadata": {
    "tags": []
   },
   "outputs": [
    {
     "data": {
      "text/plain": [
       "age     0\n",
       "fare    0\n",
       "dtype: int64"
      ]
     },
     "execution_count": 19,
     "metadata": {},
     "output_type": "execute_result"
    }
   ],
   "source": [
    "numeric_not_null.isnull().sum()"
   ]
  },
  {
   "cell_type": "code",
   "execution_count": 25,
   "id": "c2df4336-ff85-450d-bcac-d1935bf81dfd",
   "metadata": {
    "tags": []
   },
   "outputs": [],
   "source": [
    "# Estandarizamos las variables numéricas\n",
    "from sklearn.preprocessing import StandardScaler\n",
    "\n",
    "scaler = StandardScaler()\n",
    "matrix_standar = scaler.fit_transform(numeric_not_null)\n",
    "\n",
    "df_num_scaled = pd.DataFrame(matrix_standar, columns=numeric_not_null.columns)"
   ]
  },
  {
   "cell_type": "code",
   "execution_count": 26,
   "id": "25617611-8258-4e5c-9d9f-9e3aa49032a3",
   "metadata": {
    "tags": []
   },
   "outputs": [
    {
     "data": {
      "text/html": [
       "<div>\n",
       "<style scoped>\n",
       "    .dataframe tbody tr th:only-of-type {\n",
       "        vertical-align: middle;\n",
       "    }\n",
       "\n",
       "    .dataframe tbody tr th {\n",
       "        vertical-align: top;\n",
       "    }\n",
       "\n",
       "    .dataframe thead th {\n",
       "        text-align: right;\n",
       "    }\n",
       "</style>\n",
       "<table border=\"1\" class=\"dataframe\">\n",
       "  <thead>\n",
       "    <tr style=\"text-align: right;\">\n",
       "      <th></th>\n",
       "      <th>age</th>\n",
       "      <th>fare</th>\n",
       "    </tr>\n",
       "  </thead>\n",
       "  <tbody>\n",
       "    <tr>\n",
       "      <th>0</th>\n",
       "      <td>-0.592481</td>\n",
       "      <td>-0.502445</td>\n",
       "    </tr>\n",
       "    <tr>\n",
       "      <th>1</th>\n",
       "      <td>0.638789</td>\n",
       "      <td>0.786845</td>\n",
       "    </tr>\n",
       "    <tr>\n",
       "      <th>2</th>\n",
       "      <td>-0.284663</td>\n",
       "      <td>-0.488854</td>\n",
       "    </tr>\n",
       "    <tr>\n",
       "      <th>3</th>\n",
       "      <td>0.407926</td>\n",
       "      <td>0.420730</td>\n",
       "    </tr>\n",
       "    <tr>\n",
       "      <th>4</th>\n",
       "      <td>0.407926</td>\n",
       "      <td>-0.486337</td>\n",
       "    </tr>\n",
       "  </tbody>\n",
       "</table>\n",
       "</div>"
      ],
      "text/plain": [
       "        age      fare\n",
       "0 -0.592481 -0.502445\n",
       "1  0.638789  0.786845\n",
       "2 -0.284663 -0.488854\n",
       "3  0.407926  0.420730\n",
       "4  0.407926 -0.486337"
      ]
     },
     "execution_count": 26,
     "metadata": {},
     "output_type": "execute_result"
    }
   ],
   "source": [
    "df_num_scaled.head()"
   ]
  },
  {
   "cell_type": "markdown",
   "id": "b43db64c-526a-458c-8549-7d293ef7a62f",
   "metadata": {},
   "source": [
    "# Tratamos variables categóricas"
   ]
  },
  {
   "cell_type": "code",
   "execution_count": 28,
   "id": "6d09254c-d6ed-449b-ae9a-e6161ef507a3",
   "metadata": {
    "tags": []
   },
   "outputs": [],
   "source": [
    "categor = df_X.drop(numeric.columns, axis=1)"
   ]
  },
  {
   "cell_type": "code",
   "execution_count": 31,
   "id": "50b8f907-eec8-4b2d-9944-3cb287794e14",
   "metadata": {
    "tags": []
   },
   "outputs": [],
   "source": [
    "# Tratamos los nulos\n",
    "from sklearn.impute import SimpleImputer\n",
    "imputer = SimpleImputer(missing_values=np.nan, strategy='most_frequent')\n",
    "\n",
    "matrix_cat = imputer.fit_transform(categor)\n",
    "cat_not_null = pd.DataFrame(matrix_cat, columns=categor.columns)"
   ]
  },
  {
   "cell_type": "code",
   "execution_count": 34,
   "id": "3827b83d-23d1-4ab8-bcc5-64ed635b3c6f",
   "metadata": {
    "tags": []
   },
   "outputs": [
    {
     "name": "stderr",
     "output_type": "stream",
     "text": [
      "/tmp/ipykernel_10459/2204880212.py:2: FutureWarning: In a future version, the Index constructor will not infer numeric dtypes when passed object-dtype sequences (matching Series behavior)\n",
      "  cat_clean = pd.get_dummies(cat_not_null)\n",
      "/tmp/ipykernel_10459/2204880212.py:2: FutureWarning: In a future version, the Index constructor will not infer numeric dtypes when passed object-dtype sequences (matching Series behavior)\n",
      "  cat_clean = pd.get_dummies(cat_not_null)\n",
      "/tmp/ipykernel_10459/2204880212.py:2: FutureWarning: In a future version, the Index constructor will not infer numeric dtypes when passed object-dtype sequences (matching Series behavior)\n",
      "  cat_clean = pd.get_dummies(cat_not_null)\n"
     ]
    }
   ],
   "source": [
    "# Hacemos dummies para que lo entienda el modelo\n",
    "cat_clean = pd.get_dummies(cat_not_null)"
   ]
  },
  {
   "cell_type": "markdown",
   "id": "10c9f59a-0ce8-4ca2-8313-68c93864aab5",
   "metadata": {},
   "source": [
    "# Unimos los 2 dataframe"
   ]
  },
  {
   "cell_type": "code",
   "execution_count": 36,
   "id": "49df1dd9-def9-4b89-ae1b-78edf72af5e8",
   "metadata": {
    "tags": []
   },
   "outputs": [],
   "source": [
    "df_clean = pd.concat([df_num_scaled, cat_clean], axis=1)"
   ]
  },
  {
   "cell_type": "markdown",
   "id": "c65b6133-ab24-4d74-9f54-eaf8a48384a1",
   "metadata": {},
   "source": [
    "# Separamos en train y test"
   ]
  },
  {
   "cell_type": "code",
   "execution_count": 39,
   "id": "a59e7782-7164-47b9-a7ee-eae1ca610760",
   "metadata": {
    "tags": []
   },
   "outputs": [],
   "source": [
    "from sklearn.model_selection import train_test_split\n",
    "\n",
    "X_train, X_test, y_train, y_test = train_test_split(df_clean, df_y, test_size = 0.1)"
   ]
  },
  {
   "cell_type": "markdown",
   "id": "276ac9c3-84fe-4c6c-a7bc-d8fa1ffcfa07",
   "metadata": {},
   "source": [
    "# Entrenamos el modelo"
   ]
  },
  {
   "cell_type": "code",
   "execution_count": 40,
   "id": "7682a5b5-c5f9-4bbf-b8fd-70fcfc06d98d",
   "metadata": {
    "tags": []
   },
   "outputs": [
    {
     "name": "stderr",
     "output_type": "stream",
     "text": [
      "/home/nalaminos/Entornos/mlops-titanic/lib/python3.10/site-packages/sklearn/utils/validation.py:1143: DataConversionWarning: A column-vector y was passed when a 1d array was expected. Please change the shape of y to (n_samples, ), for example using ravel().\n",
      "  y = column_or_1d(y, warn=True)\n"
     ]
    },
    {
     "data": {
      "text/html": [
       "<style>#sk-container-id-2 {color: black;background-color: white;}#sk-container-id-2 pre{padding: 0;}#sk-container-id-2 div.sk-toggleable {background-color: white;}#sk-container-id-2 label.sk-toggleable__label {cursor: pointer;display: block;width: 100%;margin-bottom: 0;padding: 0.3em;box-sizing: border-box;text-align: center;}#sk-container-id-2 label.sk-toggleable__label-arrow:before {content: \"▸\";float: left;margin-right: 0.25em;color: #696969;}#sk-container-id-2 label.sk-toggleable__label-arrow:hover:before {color: black;}#sk-container-id-2 div.sk-estimator:hover label.sk-toggleable__label-arrow:before {color: black;}#sk-container-id-2 div.sk-toggleable__content {max-height: 0;max-width: 0;overflow: hidden;text-align: left;background-color: #f0f8ff;}#sk-container-id-2 div.sk-toggleable__content pre {margin: 0.2em;color: black;border-radius: 0.25em;background-color: #f0f8ff;}#sk-container-id-2 input.sk-toggleable__control:checked~div.sk-toggleable__content {max-height: 200px;max-width: 100%;overflow: auto;}#sk-container-id-2 input.sk-toggleable__control:checked~label.sk-toggleable__label-arrow:before {content: \"▾\";}#sk-container-id-2 div.sk-estimator input.sk-toggleable__control:checked~label.sk-toggleable__label {background-color: #d4ebff;}#sk-container-id-2 div.sk-label input.sk-toggleable__control:checked~label.sk-toggleable__label {background-color: #d4ebff;}#sk-container-id-2 input.sk-hidden--visually {border: 0;clip: rect(1px 1px 1px 1px);clip: rect(1px, 1px, 1px, 1px);height: 1px;margin: -1px;overflow: hidden;padding: 0;position: absolute;width: 1px;}#sk-container-id-2 div.sk-estimator {font-family: monospace;background-color: #f0f8ff;border: 1px dotted black;border-radius: 0.25em;box-sizing: border-box;margin-bottom: 0.5em;}#sk-container-id-2 div.sk-estimator:hover {background-color: #d4ebff;}#sk-container-id-2 div.sk-parallel-item::after {content: \"\";width: 100%;border-bottom: 1px solid gray;flex-grow: 1;}#sk-container-id-2 div.sk-label:hover label.sk-toggleable__label {background-color: #d4ebff;}#sk-container-id-2 div.sk-serial::before {content: \"\";position: absolute;border-left: 1px solid gray;box-sizing: border-box;top: 0;bottom: 0;left: 50%;z-index: 0;}#sk-container-id-2 div.sk-serial {display: flex;flex-direction: column;align-items: center;background-color: white;padding-right: 0.2em;padding-left: 0.2em;position: relative;}#sk-container-id-2 div.sk-item {position: relative;z-index: 1;}#sk-container-id-2 div.sk-parallel {display: flex;align-items: stretch;justify-content: center;background-color: white;position: relative;}#sk-container-id-2 div.sk-item::before, #sk-container-id-2 div.sk-parallel-item::before {content: \"\";position: absolute;border-left: 1px solid gray;box-sizing: border-box;top: 0;bottom: 0;left: 50%;z-index: -1;}#sk-container-id-2 div.sk-parallel-item {display: flex;flex-direction: column;z-index: 1;position: relative;background-color: white;}#sk-container-id-2 div.sk-parallel-item:first-child::after {align-self: flex-end;width: 50%;}#sk-container-id-2 div.sk-parallel-item:last-child::after {align-self: flex-start;width: 50%;}#sk-container-id-2 div.sk-parallel-item:only-child::after {width: 0;}#sk-container-id-2 div.sk-dashed-wrapped {border: 1px dashed gray;margin: 0 0.4em 0.5em 0.4em;box-sizing: border-box;padding-bottom: 0.4em;background-color: white;}#sk-container-id-2 div.sk-label label {font-family: monospace;font-weight: bold;display: inline-block;line-height: 1.2em;}#sk-container-id-2 div.sk-label-container {text-align: center;}#sk-container-id-2 div.sk-container {/* jupyter's `normalize.less` sets `[hidden] { display: none; }` but bootstrap.min.css set `[hidden] { display: none !important; }` so we also need the `!important` here to be able to override the default hidden behavior on the sphinx rendered scikit-learn.org. See: https://github.com/scikit-learn/scikit-learn/issues/21755 */display: inline-block !important;position: relative;}#sk-container-id-2 div.sk-text-repr-fallback {display: none;}</style><div id=\"sk-container-id-2\" class=\"sk-top-container\"><div class=\"sk-text-repr-fallback\"><pre>LogisticRegression()</pre><b>In a Jupyter environment, please rerun this cell to show the HTML representation or trust the notebook. <br />On GitHub, the HTML representation is unable to render, please try loading this page with nbviewer.org.</b></div><div class=\"sk-container\" hidden><div class=\"sk-item\"><div class=\"sk-estimator sk-toggleable\"><input class=\"sk-toggleable__control sk-hidden--visually\" id=\"sk-estimator-id-2\" type=\"checkbox\" checked><label for=\"sk-estimator-id-2\" class=\"sk-toggleable__label sk-toggleable__label-arrow\">LogisticRegression</label><div class=\"sk-toggleable__content\"><pre>LogisticRegression()</pre></div></div></div></div></div>"
      ],
      "text/plain": [
       "LogisticRegression()"
      ]
     },
     "execution_count": 40,
     "metadata": {},
     "output_type": "execute_result"
    }
   ],
   "source": [
    "from sklearn.linear_model import LogisticRegression\n",
    "\n",
    "lr = LogisticRegression()\n",
    "lr.fit(X_train, y_train)"
   ]
  },
  {
   "cell_type": "code",
   "execution_count": 42,
   "id": "55997a5c-36b2-4342-92c7-f599b4254d23",
   "metadata": {
    "tags": []
   },
   "outputs": [],
   "source": [
    "# Evaluamos el resultado\n",
    "yhat = lr.predict(X_test)"
   ]
  },
  {
   "cell_type": "code",
   "execution_count": 45,
   "id": "e017170f-bc78-4ae0-81b4-026923552c18",
   "metadata": {
    "tags": []
   },
   "outputs": [
    {
     "name": "stdout",
     "output_type": "stream",
     "text": [
      "______________________________________________________________________\n",
      "accuracy => 0.8444444444444444\n",
      "______________________________________________________________________\n",
      "precission => 0.6944444444444444\n",
      "______________________________________________________________________\n",
      "recall => 0.8928571428571429\n",
      "______________________________________________________________________\n",
      "f1 => 0.78125\n"
     ]
    },
    {
     "data": {
      "image/png": "[encoded data removed]",
      "text/plain": [
       "<Figure size 640x480 with 2 Axes>"
      ]
     },
     "metadata": {},
     "output_type": "display_data"
    }
   ],
   "source": [
    "# PLoteamos la matriz de confusión de los datos\n",
    "from sklearn.metrics import confusion_matrix\n",
    "from sklearn.metrics import accuracy_score\n",
    "from sklearn.metrics import precision_score\n",
    "from sklearn.metrics import recall_score\n",
    "from sklearn.metrics import f1_score\n",
    "sns.heatmap(confusion_matrix(y_test, yhat), annot=True)\n",
    "print(\"_______\" *10)\n",
    "print(f'accuracy => {accuracy_score(y_test, yhat)}')\n",
    "print(\"_______\" *10)\n",
    "print(f'precission => {precision_score(y_test, yhat)}')\n",
    "print(\"_______\" *10)\n",
    "print(f'recall => {recall_score(y_test, yhat)}')\n",
    "print(\"_______\" *10)\n",
    "print(f'f1 => {f1_score(y_test, yhat)}')"
   ]
  },
  {
   "cell_type": "markdown",
   "id": "f93efb9d-1654-4554-b99f-54d1213015eb",
   "metadata": {},
   "source": [
    "# Conclusiones\n",
    "Vemos que el modelo podría mejorar, pero como lo que queremos practicar es a desplegar un modelo, con esto nos bastará"
   ]
  },
  {
   "cell_type": "code",
   "execution_count": null,
   "id": "0d0e0618-5ae3-4de3-a184-1ae1944b43f0",
   "metadata": {},
   "outputs": [],
   "source": []
  }
 ],
 "metadata": {
  "kernelspec": {
   "display_name": "mlops-titanic",
   "language": "python",
   "name": "mlops-titanic"
  },
  "language_info": {
   "codemirror_mode": {
    "name": "ipython",
    "version": 3
   },
   "file_extension": ".py",
   "mimetype": "text/x-python",
   "name": "python",
   "nbconvert_exporter": "python",
   "pygments_lexer": "ipython3",
   "version": "3.10.6"
  }
 },
 "nbformat": 4,
 "nbformat_minor": 5
}
